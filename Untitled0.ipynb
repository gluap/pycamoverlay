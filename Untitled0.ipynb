{
 "metadata": {
  "name": "",
  "signature": "sha256:af935d28374a5d0ff1ee1541f0f74c61f4c224225eaffa11c20e3753ba41872c"
 },
 "nbformat": 3,
 "nbformat_minor": 0,
 "worksheets": [
  {
   "cells": [
    {
     "cell_type": "code",
     "collapsed": false,
     "input": [
      "%pylab inline\n",
      "import PIL\n",
      "import PIL.ImageFont\n",
      "import PIL.ImageDraw\n",
      "import sys"
     ],
     "language": "python",
     "metadata": {},
     "outputs": [
      {
       "output_type": "stream",
       "stream": "stdout",
       "text": [
        "Populating the interactive namespace from numpy and matplotlib\n"
       ]
      }
     ],
     "prompt_number": 3
    },
    {
     "cell_type": "code",
     "collapsed": false,
     "input": [
      "class scaleBar(object):\n",
      "    def __init__(self,minValue=0,maxValue=200,badValue=150,width=300,height=60):\n",
      "        self.width=width*3+60\n",
      "        self.height=height*3\n",
      "        self.minValue=minValue\n",
      "        self.maxValue=maxValue\n",
      "        self.badValue=badValue\n",
      "        self.delta=maxValue-minValue\n",
      "    def draw(self,value,sigma=0.):\n",
      "        temp = PIL.Image.new('RGBA', (self.width,self.height), (255, 255, 255, 0))\n",
      "        width=1.*(value-self.minValue)/self.delta*self.width\n",
      "        widthSigma=sigma/self.delta*self.width\n",
      "        draw=PIL.ImageDraw.Draw(temp)\n",
      "        if value<self.badValue:\n",
      "            fColor=(255,0,0,150)\n",
      "        else:\n",
      "            fColor=(0,180,0,150)\n",
      "        draw.rectangle([self.width-width,0,self.width,self.height/2],fill=fColor)\n",
      "        draw.rectangle([0,0,self.width-width,self.height/2],fill=(255,255,255,150))\n",
      "        draw.line((self.width-width,0,self.width-width,self.height/2+16),fill=(255,255,255,200),width=int(widthSigma)+1)\n",
      "        draw.line((self.width-self.width*(self.badValue-self.minValue)/self.delta,0,self.width-self.width*(self.badValue-self.minValue)/self.delta,self.height/2+16),fill=(0,0,0,200),width=3+1)\n",
      "\n",
      "        return temp\n",
      "test=scaleBar()\n",
      "imshow(test.draw(110,sigma=20.))\n",
      "        \n",
      "\n",
      "        \n"
     ],
     "language": "python",
     "metadata": {},
     "outputs": [
      {
       "metadata": {},
       "output_type": "pyout",
       "prompt_number": 14,
       "text": [
        "<matplotlib.image.AxesImage at 0x10ce62790>"
       ]
      },
      {
       "metadata": {},
       "output_type": "display_data",
       "png": "[encoded data removed]",
       "text": [
        "<matplotlib.figure.Figure at 0x10ce3ce90>"
       ]
      }
     ],
     "prompt_number": 14
    },
    {
     "cell_type": "code",
     "collapsed": false,
     "input": [
      "test=numpy.genfromtxt(\"test.txt\",comments=\"_u\",delimiter=\"_\")\n",
      "print test"
     ],
     "language": "python",
     "metadata": {},
     "outputs": [
      {
       "output_type": "stream",
       "stream": "stdout",
       "text": [
        "[[ 1.     1.22 ]\n",
        " [ 2.     1.341]]\n"
       ]
      }
     ],
     "prompt_number": 54
    },
    {
     "cell_type": "code",
     "collapsed": false,
     "input": [
      "test"
     ],
     "language": "python",
     "metadata": {},
     "outputs": [
      {
       "metadata": {},
       "output_type": "pyout",
       "prompt_number": 53,
       "text": [
        "array([[ 1.   ,  1.22 ,    nan],\n",
        "       [ 2.   ,  1.341,    nan]])"
       ]
      }
     ],
     "prompt_number": 53
    },
    {
     "cell_type": "code",
     "collapsed": false,
     "input": [],
     "language": "python",
     "metadata": {},
     "outputs": []
    }
   ],
   "metadata": {}
  }
 ]
}